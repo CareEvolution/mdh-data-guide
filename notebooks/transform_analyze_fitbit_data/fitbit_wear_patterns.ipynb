{
 "cells": [
  {
   "cell_type": "markdown",
   "id": "5e5b67c3-2992-487d-b604-5d025e97481b",
   "metadata": {},
   "source": [
    "# Exploring Fitbit Wear Patterns\n",
    "\n",
    "This notebook explores the question: \"What is the daily trend in the number of participants who wore their Fitbit at least 12 hours each day\"?\n",
    "\n",
    "To answer this question, the concept \"wore their Fitbit for an hour\" is determined by considering the number of intraday step instances recorded for each hour of the day. If 60 intraday step data instances are present (one for each minute) in an hour, the participant has worn their fitbit during that hour period."
   ]
  },
  {
   "cell_type": "markdown",
   "id": "6f02380e-84e7-47dc-a00b-36c9213021cb",
   "metadata": {},
   "source": [
    "### Gather Your Export Database Configuration Settings and Credentials\n",
    "\n",
    "To obtain the configuration settings for your project\"s Export Database, open MyDataHelps Designer and navigate to the `Settings` tab for your project. Click `Export Explorer`. The `External Applications` tab will provide the required configuration settings. "
   ]
  },
  {
   "cell_type": "code",
   "execution_count": 2,
   "id": "d9aa8933-e7f5-4c94-be2a-2f3c84861db5",
   "metadata": {},
   "outputs": [],
   "source": [
    "import os, sys; sys.path.append(\"..\") \n",
    "from src.mdh_query import MDHQuery\n",
    "\n",
    "import pandas as pd\n",
    "from datetime import datetime\n",
    "from matplotlib import pyplot as plt\n",
    "\n",
    "mdh_query = MDHQuery(\n",
    "    catalog = \"{YOUR CATALOG}\",\n",
    "    workgroup = \"{YOUR WORKGROUP}\",\n",
    "    s3_output_location = \"s3://pep-mdh-export-database-prod/execution/{YOUR DIRECTORY}\",\n",
    "    aws_profile_name = \"{YOUR AWS PROFILE NAME}\" \n",
    ")"
   ]
  },
  {
   "cell_type": "code",
   "execution_count": 4,
   "id": "324e4235",
   "metadata": {
    "scrolled": true
   },
   "outputs": [
    {
     "name": "stdout",
     "output_type": "stream",
     "text": [
      "16:18:40 query status: QUEUED\n",
      "16:18:45 query status: RUNNING\n",
      "16:18:50 query status: RUNNING\n",
      "16:18:55 query status: SUCCEEDED\n",
      "16:19:03 rows: 1108685 columns: ['participantidentifier', 'wear_date', 'wear_hour', 'instances']\n"
     ]
    }
   ],
   "source": [
    "query_string = f\"\"\"\n",
    "select \n",
    "    participantidentifier,\n",
    "    cast(datetime as date) as wear_date,\n",
    "    hour(cast(datetime as timestamp)) as wear_hour,\n",
    "    count(*) as instances\n",
    "from\n",
    "    fitbitintradaycombined \n",
    "where\n",
    "    type = 'activities-steps'\n",
    "group by\n",
    "    1,2,3\n",
    "\"\"\"\n",
    "\n",
    "intraday_steps = mdh_query.get_query_result(query_string)"
   ]
  },
  {
   "cell_type": "code",
   "execution_count": 5,
   "id": "d3f98664",
   "metadata": {
    "scrolled": true
   },
   "outputs": [
    {
     "name": "stdout",
     "output_type": "stream",
     "text": [
      "Fitbit data is available from:  2021-10-14  to  2022-10-17\n",
      "Unique participants:  336\n"
     ]
    }
   ],
   "source": [
    "print(\"Fitbit data is available from: \", intraday_steps.wear_date.min(), \" to \", intraday_steps.wear_date.max())\n",
    "print(\"Unique participants: \", intraday_steps.participantidentifier.nunique())"
   ]
  },
  {
   "cell_type": "markdown",
   "id": "920fc1e4-b1b1-4fa3-b8c3-b7a4448dff61",
   "metadata": {},
   "source": [
    "If 60 intraday step data instances are present in an hour (one for each minute), the participant has worn their fitbit during that hour period."
   ]
  },
  {
   "cell_type": "code",
   "execution_count": 6,
   "id": "9ed90f2a-4cc0-40ba-9eb7-d7b212755e66",
   "metadata": {},
   "outputs": [
    {
     "data": {
      "text/html": [
       "<div>\n",
       "<style scoped>\n",
       "    .dataframe tbody tr th:only-of-type {\n",
       "        vertical-align: middle;\n",
       "    }\n",
       "\n",
       "    .dataframe tbody tr th {\n",
       "        vertical-align: top;\n",
       "    }\n",
       "\n",
       "    .dataframe thead th {\n",
       "        text-align: right;\n",
       "    }\n",
       "</style>\n",
       "<table border=\"1\" class=\"dataframe\">\n",
       "  <thead>\n",
       "    <tr style=\"text-align: right;\">\n",
       "      <th></th>\n",
       "      <th>wear_date</th>\n",
       "      <th>participants</th>\n",
       "    </tr>\n",
       "  </thead>\n",
       "  <tbody>\n",
       "    <tr>\n",
       "      <th>0</th>\n",
       "      <td>2022-08-18</td>\n",
       "      <td>242</td>\n",
       "    </tr>\n",
       "    <tr>\n",
       "      <th>1</th>\n",
       "      <td>2022-08-19</td>\n",
       "      <td>242</td>\n",
       "    </tr>\n",
       "    <tr>\n",
       "      <th>2</th>\n",
       "      <td>2022-08-20</td>\n",
       "      <td>242</td>\n",
       "    </tr>\n",
       "    <tr>\n",
       "      <th>3</th>\n",
       "      <td>2022-08-21</td>\n",
       "      <td>243</td>\n",
       "    </tr>\n",
       "    <tr>\n",
       "      <th>4</th>\n",
       "      <td>2022-08-22</td>\n",
       "      <td>244</td>\n",
       "    </tr>\n",
       "  </tbody>\n",
       "</table>\n",
       "</div>"
      ],
      "text/plain": [
       "    wear_date  participants\n",
       "0  2022-08-18           242\n",
       "1  2022-08-19           242\n",
       "2  2022-08-20           242\n",
       "3  2022-08-21           243\n",
       "4  2022-08-22           244"
      ]
     },
     "execution_count": 6,
     "metadata": {},
     "output_type": "execute_result"
    }
   ],
   "source": [
    "start_date = pd.to_datetime(datetime.now().date()) - pd.to_timedelta(60, unit='d') \n",
    "\n",
    "participant_hours = (\n",
    "    intraday_steps[pd.to_datetime(intraday_steps.wear_date).ge(start_date) & intraday_steps.instances.ge(60)].\n",
    "        groupby([\"participantidentifier\",\"wear_date\"]).\n",
    "        agg(\n",
    "            hours=pd.NamedAgg(column=\"wear_hour\", aggfunc=\"count\")\n",
    "        )\n",
    ")\n",
    "\n",
    "participants_wear_date = (\n",
    "    participant_hours[participant_hours.hours>=12].\n",
    "        reset_index().\n",
    "        groupby(\"wear_date\").\n",
    "        agg(participants=pd.NamedAgg(column=\"participantidentifier\", aggfunc=\"count\"))\n",
    ").reset_index()\n",
    "\n",
    "participants_wear_date.head(5)"
   ]
  },
  {
   "cell_type": "code",
   "execution_count": 7,
   "id": "b8159d8e",
   "metadata": {},
   "outputs": [
    {
     "data": {
      "image/png": "[encoded data removed]",
      "text/plain": [
       "<Figure size 2000x600 with 1 Axes>"
      ]
     },
     "metadata": {},
     "output_type": "display_data"
    }
   ],
   "source": [
    "plt.figure(figsize=(20,6))\n",
    "plt.bar(participants_wear_date.wear_date.to_list(), participants_wear_date.participants.to_list())\n",
    "plt.xticks(rotation=90)\n",
    "plt.title(\"Wear Date\")\n",
    "plt.ylabel(\"Participants\")\n",
    "plt.show()"
   ]
  }
 ],
 "metadata": {
  "kernelspec": {
   "display_name": "Python 3 (ipykernel)",
   "language": "python",
   "name": "python3"
  },
  "language_info": {
   "codemirror_mode": {
    "name": "ipython",
    "version": 3
   },
   "file_extension": ".py",
   "mimetype": "text/x-python",
   "name": "python",
   "nbconvert_exporter": "python",
   "pygments_lexer": "ipython3",
   "version": "3.9.9"
  }
 },
 "nbformat": 4,
 "nbformat_minor": 5
}
