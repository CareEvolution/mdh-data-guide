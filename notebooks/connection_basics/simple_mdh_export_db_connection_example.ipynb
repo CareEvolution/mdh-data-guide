{
 "cells": [
  {
   "cell_type": "markdown",
   "id": "85f26def-769a-443a-b2de-15b263bea3a5",
   "metadata": {},
   "source": [
    "# Query MyDataHelps Export Database\n",
    "\n",
    "Use this notebook to run any query against the MDH Export Database and obtain the result as a pandas data frame.\n",
    "\n",
    "An AWS profile from the AWS credentials file (specified in the config cell) will be used for authentication."
   ]
  },
  {
   "cell_type": "code",
   "execution_count": null,
   "id": "e82f43eb-ea2d-41ac-a52d-0cdaf646b6df",
   "metadata": {},
   "outputs": [],
   "source": [
    "# One time setup. Uncomment the following lines if these libraries have not been installed in your python kernel/virtual environment.\n",
    "\n",
    "#!pip install --upgrade boto3 pandas"
   ]
  },
  {
   "cell_type": "markdown",
   "id": "e75da1d7-c041-4a2e-856c-7e04d74faaf2",
   "metadata": {},
   "source": [
    "### Gather Your Export Database Configuration Settings and Credentials\n",
    "\n",
    "To obtain the configuration settings for your project's Export Database, open MyDataHelps Designer and navigate to the `Settings` tab for your project. Click `Export Explorer`. The `External Applications` tab will provide the required configuration settings. "
   ]
  },
  {
   "cell_type": "code",
   "execution_count": null,
   "id": "7efe5a3f-cafb-4432-9398-3940a9284afa",
   "metadata": {
    "tags": []
   },
   "outputs": [],
   "source": [
    "PROJECT_SCHEMA_NAME = \"{YOUR PROJECT SCHEMA NAME}\"\n",
    "AWS_PROFILE_NAME = \"{YOUR AWS PROFILE NAME}\"\n",
    "ATHENA_OUTPUT_BUCKET_LOCATION =\"{YOUR S3 OUTPUT LOCATION}\"\n",
    "ATHENA_WORKGROUP = \"{YOUR WORKGROUP}\"\n",
    "QUERY_RESULT_TEMP_FILE_LOCATION = \"athena_query_results.csv\" # preferred location on your local machine"
   ]
  },
  {
   "cell_type": "code",
   "execution_count": null,
   "id": "8af4f81e",
   "metadata": {},
   "outputs": [],
   "source": [
    "import boto3, pandas as pd, numpy as np, time\n",
    "\n",
    "def execute_query(query_string: str, download_file_location: str = None) -> pd.DataFrame:\n",
    " \n",
    "    session = boto3.session.Session(profile_name=AWS_PROFILE_NAME)\n",
    "    \n",
    "    athena_client = session.client(\"athena\", region_name=\"us-east-1\")\n",
    "\n",
    "    query_start = athena_client.start_query_execution(\n",
    "        QueryString = query_string,\n",
    "        QueryExecutionContext = {\"Database\": PROJECT_SCHEMA_NAME}, \n",
    "        WorkGroup = ATHENA_WORKGROUP,\n",
    "        ResultConfiguration = {\"OutputLocation\": f\"{ATHENA_OUTPUT_BUCKET_LOCATION}/\"}\n",
    "    )\n",
    "        \n",
    "    query_execution = athena_client.get_query_execution(QueryExecutionId=query_start['QueryExecutionId'])\n",
    "    while query_execution[\"QueryExecution\"][\"Status\"][\"State\"] in {\"RUNNING\", \"QUEUED\"}:\n",
    "        print(time.strftime(\"%H:%M:%S\", time.localtime()), f\"query status: {query_execution['QueryExecution']['Status']['State']}\")\n",
    "        time.sleep(5)\n",
    "        query_execution = athena_client.get_query_execution(QueryExecutionId=query_start['QueryExecutionId'])\n",
    "\n",
    "    print(time.strftime(\"%H:%M:%S\", time.localtime()), f\"query status: {query_execution['QueryExecution']['Status']['State']}\")\n",
    "\n",
    "    s3_client = session.client(\"s3\")\n",
    "\n",
    "    file_location = download_file_location if download_file_location is not None else QUERY_RESULT_TEMP_FILE_LOCATION\n",
    "\n",
    "    result_uri = query_execution[\"QueryExecution\"][\"ResultConfiguration\"][\"OutputLocation\"]\n",
    "    bucket_name =  result_uri.split(\"/\")[2]             \n",
    " \n",
    "    s3_client.download_file(\n",
    "        bucket_name,\n",
    "        result_uri.replace(f\"s3://{bucket_name}/\", \"\"),\n",
    "        file_location,\n",
    "    )\n",
    "\n",
    "    return pd.read_csv(file_location)"
   ]
  },
  {
   "cell_type": "code",
   "execution_count": null,
   "id": "e9dca89a",
   "metadata": {},
   "outputs": [],
   "source": [
    "query_string = f\"\"\"\n",
    "select \n",
    "    surveydefinitionkey, \n",
    "    surveykey,\n",
    "    surveyname,\n",
    "    versionnumber,\n",
    "    inserteddate,\n",
    "    definition\n",
    "from\n",
    "    surveydefinitions\n",
    "\"\"\"\n",
    "\n",
    "surveydefinitions = execute_query(query_string)\n",
    "surveydefinitions"
   ]
  },
  {
   "cell_type": "code",
   "execution_count": null,
   "id": "afaf3e74",
   "metadata": {},
   "outputs": [],
   "source": [
    "query_string = f\"\"\"\n",
    "select\n",
    "    participantidentifier,\n",
    "    date, \n",
    "    restingheartrate,\n",
    "    steps\n",
    "from\n",
    "    fitbitdailydata\n",
    "\"\"\"\n",
    "\n",
    "fitbitdailydata = execute_query(query_string)\n",
    "fitbitdailydata"
   ]
  },
  {
   "cell_type": "code",
   "execution_count": null,
   "id": "15f3be08-7bb2-471d-8f93-96f19da0cba9",
   "metadata": {},
   "outputs": [],
   "source": [
    "(fitbitdailydata[fitbitdailydata.participantidentifier.eq(\"{YOUR PARTICIPANT IDENTIFIER}\")]\n",
    " .groupby(\"participantidentifier\")[[\"restingheartrate\", \"steps\"]]\n",
    " .agg(\"mean\"))"
   ]
  }
 ],
 "metadata": {
  "kernelspec": {
   "display_name": "Python 3 (ipykernel)",
   "language": "python",
   "name": "python3"
  },
  "language_info": {
   "codemirror_mode": {
    "name": "ipython",
    "version": 3
   },
   "file_extension": ".py",
   "mimetype": "text/x-python",
   "name": "python",
   "nbconvert_exporter": "python",
   "pygments_lexer": "ipython3",
   "version": "3.9.9"
  }
 },
 "nbformat": 4,
 "nbformat_minor": 5
}
