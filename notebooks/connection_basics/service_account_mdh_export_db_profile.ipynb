{
 "cells": [
  {
   "attachments": {},
   "cell_type": "markdown",
   "metadata": {},
   "source": [
    "# MDH Service Account Token Exchange\n",
    "\n",
    "This notebook describes how to exchange a Service Account's bearer token for AWS credentials that can be used in other notebooks in this repository.\n"
   ]
  },
  {
   "cell_type": "code",
   "execution_count": null,
   "metadata": {},
   "outputs": [],
   "source": [
    "# One time setup. Uncomment the following lines if these libraries have not been installed in your python kernel/virtual environment.\n",
    "\n",
    "#!pip install --upgrade jwt requests cryptography python-dotenv"
   ]
  },
  {
   "attachments": {},
   "cell_type": "markdown",
   "metadata": {},
   "source": [
    "## Generate a Service Account Key\n",
    "\n",
    "A [service account](https://developer.mydatahelps.org/api/service_account.html) for your organization is required to issue credentials. Once you have a private key, add it to a `.env` file next to this notebook."
   ]
  },
  {
   "cell_type": "code",
   "execution_count": null,
   "metadata": {},
   "outputs": [],
   "source": [
    "import jwt\n",
    "import requests\n",
    "import pathlib\n",
    "import os\n",
    "from datetime import datetime\n",
    "from dotenv import load_dotenv\n",
    "from uuid import uuid4\n",
    "\n",
    "load_dotenv()"
   ]
  },
  {
   "cell_type": "code",
   "execution_count": null,
   "metadata": {},
   "outputs": [],
   "source": [
    "# Derived from https://github.com/CareEvolution/mydatahelps-rest-api-python-quickstart/blob/main/quickstart.py\n",
    "\n",
    "def get_token() -> str:\n",
    "    private_key = os.getenv(\"RKS_PRIVATE_KEY\")\n",
    "    service_account_name = os.getenv(\"RKS_SERVICE_ACCOUNT\")\n",
    "    token_url = \"https://designer.mydatahelps.org/identityserver/connect/token\" \n",
    "\n",
    "    assertion = {\n",
    "      \"iss\": service_account_name,\n",
    "      \"sub\": service_account_name,\n",
    "      \"aud\": token_url,\n",
    "      \"exp\": datetime.now().timestamp() + 900,\n",
    "      \"jti\": str(uuid4()),\n",
    "    }\n",
    "    signed_assertion = jwt.encode(payload=assertion, key=private_key, algorithm=\"RS256\")\n",
    "    token_payload = {\n",
    "      \"scope\": \"api\",\n",
    "      \"grant_type\": \"client_credentials\",\n",
    "      \"client_assertion_type\": \"urn:ietf:params:oauth:client-assertion-type:jwt-bearer\",\n",
    "      \"client_assertion\": signed_assertion\n",
    "    }\n",
    "    response = requests.post(url=token_url, data=token_payload)\n",
    "    response.raise_for_status()\n",
    "    \n",
    "    return response.json()[\"access_token\"]\n",
    "\n",
    "service_account_token = get_token()"
   ]
  },
  {
   "attachments": {},
   "cell_type": "markdown",
   "metadata": {},
   "source": [
    "## Exchange The Token\n",
    "\n",
    "With a valid service account token, you can request explorer credentials for your project from the explorer API."
   ]
  },
  {
   "cell_type": "code",
   "execution_count": null,
   "metadata": {},
   "outputs": [],
   "source": [
    "def exchange_token(token:str) -> dict[str, str]:\n",
    "    project_code = os.getenv('RKS_PROJECT_CODE')\n",
    "    api_url = \"https://api.explorer.mydatahelps.org/token\"\n",
    "\n",
    "    headers = {\n",
    "        \"Authorization\": token,\n",
    "        \"ProjectCode\": project_code,\n",
    "        \"Accept\": \"application/json\",\n",
    "        \"Content-Type\": \"application/json; charset=utf-8\",\n",
    "    }\n",
    "    response = requests.post(url=api_url, headers=headers)\n",
    "    response.raise_for_status()\n",
    "\n",
    "    return response.json()\n",
    "\n",
    "explorer_credentials = exchange_token(service_account_token)"
   ]
  },
  {
   "attachments": {},
   "cell_type": "markdown",
   "metadata": {},
   "source": [
    "## Store a Profile\n",
    "\n",
    "It's easiest to store these credentials in an AWS credentials file for later use."
   ]
  },
  {
   "cell_type": "code",
   "execution_count": null,
   "metadata": {},
   "outputs": [],
   "source": [
    "def store_credentials(credentials: dict[str, str]) -> None:\n",
    "    profile_name = os.getenv(\"AWS_PROFILE_NAME\")\n",
    "    credentials_file = pathlib.Path(\"~/.aws/credentials\").expanduser()\n",
    "\n",
    "    file_contents = credentials_file.read_text()\n",
    "    if f\"[{profile_name}]\" in file_contents:\n",
    "        # Remove the current profile entry\n",
    "        split_contents = file_contents.split(f\"[{profile_name}]\", 1)\n",
    "        previous_entries = split_contents[0]\n",
    "        next_entries = split_contents[1].split(\"\\n[\", 1)\n",
    "        file_contents = previous_entries.strip()\n",
    "        if len(next_entries) > 1:\n",
    "            file_contents += \"\\n\\n[\" + next_entries[1].strip()\n",
    "\n",
    "    file_contents += f\"\\n\\n[{profile_name}]\\n\"\n",
    "    file_contents += f\"aws_access_key_id={credentials['AccessKeyId']}\\n\"\n",
    "    file_contents += f\"aws_secret_access_key={credentials['SecretAccessKey']}\\n\"\n",
    "    file_contents += f\"aws_session_token={credentials['SessionToken']}\\n\"\n",
    "\n",
    "    credentials_file.write_text(file_contents)\n",
    "\n",
    "store_credentials(explorer_credentials)"
   ]
  }
 ],
 "metadata": {
  "kernelspec": {
   "display_name": "pythonscripting-u6Zbf818-py3.10",
   "language": "python",
   "name": "python3"
  },
  "language_info": {
   "codemirror_mode": {
    "name": "ipython",
    "version": 3
   },
   "file_extension": ".py",
   "mimetype": "text/x-python",
   "name": "python",
   "nbconvert_exporter": "python",
   "pygments_lexer": "ipython3",
   "version": "3.10.9"
  },
  "orig_nbformat": 4
 },
 "nbformat": 4,
 "nbformat_minor": 2
}
