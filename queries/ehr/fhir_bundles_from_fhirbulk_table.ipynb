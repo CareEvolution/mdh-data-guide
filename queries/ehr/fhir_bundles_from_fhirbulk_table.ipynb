{
 "cells": [
  {
   "cell_type": "markdown",
   "id": "ae2bd635-4d4b-4414-b1aa-b4ba03ec01ff",
   "metadata": {},
   "source": [
    "# FHIR Bundles from MDH `fhirbulk` Table\n",
    "\n",
    "This query combines all available resources for each participant and returns a row per participant with a consolidated FHIR bundle."
   ]
  },
  {
   "cell_type": "code",
   "execution_count": null,
   "id": "c0a45e89-94d8-4810-95e0-63990fd931a3",
   "metadata": {},
   "outputs": [],
   "source": [
    "query_string = \"\"\"\n",
    "    with resources_with_patient_reference as (\n",
    "            select\n",
    "                concat('Patient/', id) as patient_reference,\n",
    "                participantidentifier,\n",
    "                resource,\n",
    "                row_number() over (partition by participantidentifier, providername order by pim._provenance['exportstartdate'] desc) as rn\n",
    "            from\n",
    "                fhirbulk\n",
    "                join fhirbulkparticipantidentifiersmapping pim on pim.fhirpatientid = fhirbulk.id\n",
    "            where\n",
    "                resourcetype = 'Patient'\n",
    "        ), \n",
    "        by_patient_reference as (\n",
    "        select\n",
    "            patient_reference,\n",
    "            max(participantidentifier) as participantidentifier,\n",
    "            array_agg(concat('{\"resource\":', resource, '}')) resource_array\n",
    "        from\n",
    "            resources_with_patient_reference\n",
    "        where \n",
    "            rn = 1\n",
    "        group by 1\n",
    "        )\n",
    "        select\n",
    "            patient_reference,\n",
    "            participantidentifier,\n",
    "            concat(\n",
    "                '{',\n",
    "                '\"resourceType\":\"Bundle\", ',\n",
    "                concat('\"entry\":[', array_join(resource_array, ','), '], '),\n",
    "                concat('\"total\":', cast(cardinality(resource_array) as varchar(1000))),\n",
    "                '}'\n",
    "            ) as fhir_bundle\n",
    "        from\n",
    "            by_patient_reference\n",
    "        where \n",
    "            patient_reference is not null\n",
    "\"\"\""
   ]
  },
  {
   "cell_type": "code",
   "execution_count": null,
   "id": "d2ff89dc-d5be-4220-b5d9-43d27163c7f3",
   "metadata": {},
   "outputs": [],
   "source": [
    "import os, sys; sys.path.append(\"..\") \n",
    "from src.mdh_query import MDHQuery\n",
    "\n",
    "import pandas as pd\n",
    "\n",
    "mdh_query = MDHQuery(\n",
    "    project_schema_name = \"\",\n",
    "    athena_workgroup = \"\",\n",
    "    athena_output_bucket_location = \"\",\n",
    "    aws_profile_name = \"\" \n",
    ")\n",
    "mdh_query.get_query_result(query_string)"
   ]
  }
 ],
 "metadata": {
  "kernelspec": {
   "display_name": "Python 3 (ipykernel)",
   "language": "python",
   "name": "python3"
  },
  "language_info": {
   "codemirror_mode": {
    "name": "ipython",
    "version": 3
   },
   "file_extension": ".py",
   "mimetype": "text/x-python",
   "name": "python",
   "nbconvert_exporter": "python",
   "pygments_lexer": "ipython3",
   "version": "3.9.9"
  }
 },
 "nbformat": 4,
 "nbformat_minor": 5
}
